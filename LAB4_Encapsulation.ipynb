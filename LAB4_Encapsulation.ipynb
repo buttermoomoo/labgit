{
  "nbformat": 4,
  "nbformat_minor": 0,
  "metadata": {
    "colab": {
      "provenance": []
    },
    "kernelspec": {
      "name": "python3",
      "display_name": "Python 3"
    },
    "language_info": {
      "name": "python"
    }
  },
  "cells": [
    {
      "cell_type": "markdown",
      "source": [
        "# **Lab4: Encapsulation in Game Character Design**\n",
        "\n",
        "# **Learning Objectives:**\n",
        " 1. Create a game character using encapsulation.\n",
        " 2. Understand the role of private variables and methods in restricting direct access.\n",
        " 3. Implement getter and setter methods to control how character attributes are accessed and modified.\n",
        "\n",
        "# **Part 1: Creating a Game Character**\n",
        "In this part, you will create a `GameCharacter` class to represent a character in the game. The class should have the following private attributes:\n",
        "- `name`: The name of the character.\n",
        "- `level`: The character's current level, starting at 1.\n",
        "- `health`: The character's health, starting at 100.\n",
        "- `mana`: The character's mana, starting at 50.\n",
        "\n",
        "You will also implement the following:\n",
        "- A constructor to initialize these attributes.\n",
        "- Getter methods for each attribute to allow access to their values.\n",
        "- Setter methods for `health` and `mana`. Ensure health does not exceed 100 or drop below 0, and mana is not set to negative values.\n",
        "\n",
        "\n",
        "\n",
        "\n",
        "\n",
        "\n",
        "\n",
        "\n",
        "\n"
      ],
      "metadata": {
        "id": "t3cv_z7I7s90"
      }
    },
    {
      "cell_type": "code",
      "source": [
        "class GameCharacter:\n",
        "    def __init__(self, name):\n",
        "        self.name = name\n",
        "        self.level = 1\n",
        "        self.health = 100\n",
        "        self.mana = 50\n",
        "\n",
        "    def get_name(self):\n",
        "        return self.name\n",
        "\n",
        "    def get_level(self):\n",
        "        return self.level\n",
        "\n",
        "    def get_health(self):\n",
        "        return self.health\n",
        "\n",
        "    def get_mana(self):\n",
        "        return self.mana\n",
        "\n",
        "    def set_health(self, health):\n",
        "        if health < 0:\n",
        "            self.health = 0\n",
        "        elif health > 100:\n",
        "            self.health = 100\n",
        "        else:\n",
        "            self.health = health\n",
        "\n",
        "    def set_mana(self, mana):\n",
        "        if mana < 0:\n",
        "            self.mana = 0\n",
        "        else:\n",
        "            self.mana = mana\n",
        "\n",
        "character = GameCharacter(\"Warrior\")\n",
        "\n",
        "\n",
        "print(character.get_name())\n",
        "print(character.get_level())\n",
        "print(character.get_health())\n",
        "print(character.get_mana())\n",
        "\n",
        "character.set_health(120)\n",
        "print(character.get_health())\n",
        "\n",
        "character.set_health(-10)\n",
        "print(character.get_health())\n",
        "\n",
        "character.set_mana(-5)\n",
        "print(character.get_mana())\n",
        "\n",
        "character.set_mana(30)\n",
        "print(character.get_mana())\n",
        "\n"
      ],
      "metadata": {
        "id": "HD9-IhBxLoz9",
        "outputId": "1d4eb73b-3e39-4724-c845-5467b40fc006",
        "colab": {
          "base_uri": "https://localhost:8080/"
        }
      },
      "execution_count": 44,
      "outputs": [
        {
          "output_type": "stream",
          "name": "stdout",
          "text": [
            "Warrior\n",
            "1\n",
            "100\n",
            "50\n",
            "100\n",
            "0\n",
            "0\n",
            "30\n"
          ]
        }
      ]
    },
    {
      "cell_type": "markdown",
      "source": [
        "# **Part 2: Private Methods for Combat**\n",
        "In this part, you will extend the `GameCharacter` class to include a private method for calculating damage and a public method for attacking:\n",
        "- `calculate_damage`: A `private` method that calculates the damage by (level * 5) + 10.\n",
        "- `attack`: A public method that uses `calculate_damage` to compute the damage and reduces the character's mana by 10 for each attack. If the character does not have enough mana, print a message that the attack fails. Return the damage if attack successes."
      ],
      "metadata": {
        "id": "fdG4b6HYEfmJ"
      }
    },
    {
      "cell_type": "code",
      "source": [
        "\n",
        "class GameCharacter:\n",
        "    def __init__(self, name, level, mana):\n",
        "        self.name = name\n",
        "        self.level = level\n",
        "        self.mana = mana\n",
        "        self.health = 100\n",
        "        self.mana = 50\n",
        "        self.attack_level = 1\n",
        "        self.damage = 0\n",
        "        self.damage_taken = 0\n",
        "def attack(self):\n",
        "        if self.mana >= 10:\n",
        "            self.mana -= 10\n",
        "            damage = self.__calculate_damage()\n",
        "            return damage\n",
        "        else:\n",
        "            print(f\"{self.name} ไม่มีมานาเพียงพอสำหรับการโจมตี!\")\n",
        "            return 0\n",
        "\n"
      ],
      "metadata": {
        "id": "RgqR4VkCFiSt"
      },
      "execution_count": 45,
      "outputs": []
    },
    {
      "cell_type": "markdown",
      "source": [
        "# **Part 3: Leveling Up**\n",
        "In this part, you will implement a method to level up and take damage to the character:\n",
        "- `level_up`: A method that increases the character's level by 1, fully restores health and mana, and displays a message indicating the new level.\n",
        "Add a\n",
        "- `take_damage` method that reduces the character's health by damage amount. Make sure that health does not drop below 0."
      ],
      "metadata": {
        "id": "olltURbJEge3"
      }
    },
    {
      "cell_type": "code",
      "source": [
        "#Code for part 1 - 3 Here\n",
        "class GameCharacter:\n",
        "    def __init__(self, name, level, mana, health):\n",
        "        self.name = name\n",
        "        self.level = level\n",
        "        self.mana = mana\n",
        "        self.health = health\n",
        "        self.max_health = health\n",
        "        self.max_mana = mana\n",
        "        def __calculate_damage(self):\n",
        "\n",
        "           return (self.level * 5) + 10\n",
        "\n",
        "    def attack(self):\n",
        "        if self.mana >= 10:\n",
        "            self.mana -= 10\n",
        "            damage = self.__calculate_damage()\n",
        "            return damage\n",
        "        else:\n",
        "            print(f\"{self.name} ไม่มีมานาเพียงพอสำหรับการโจมตี!\")\n",
        "            return 0\n",
        "\n",
        "    def level_up(self):\n",
        "        self.health -= damage\n",
        "        if self.health < 0:\n",
        "            self.health = 0\n",
        "        print(f\"{self.name} ได้รับความเสียหาย {damage} หน่วย. พลังชีวิตที่เหลือ: {self.health}\")"
      ],
      "metadata": {
        "id": "VWnrfvfeErdL"
      },
      "execution_count": 47,
      "outputs": []
    },
    {
      "cell_type": "markdown",
      "source": [
        "# **Part 4: Simulating Gameplay**\n",
        "1. Create two `GameCharacter` instances \"Warrior\" and \"Mage\"\n",
        "2. Set Level of Mage to 50 and Warrior to 99\n",
        "2. Display the status of both characters, showing their attributes (name, health, mana, and level).\n",
        "3. Make Mage attack Warrior and show:\n",
        "   - The damage dealt by the attacker.\n",
        "   - The remaining mana of the attacker.\n",
        "   - The remaining health of the opponent\n",
        "4. Level up both characters by calling the `level_up` method. Display the updated attributes of both characters after leveling up.\n",
        "5. Make warrior attack mage and show\n",
        "   - The damage dealt by the attacker.\n",
        "   - The remaining mana of the attacker.\n",
        "   - The remaining health of the opponent"
      ],
      "metadata": {
        "id": "pp2fHv9uEjwo"
      }
    },
    {
      "cell_type": "code",
      "source": [
        "\n",
        "class GameCharacter:\n",
        "    def __init__(self, name):\n",
        "        self.__name = name\n",
        "        self.__level = 1\n",
        "        self.__health = 100\n",
        "        self.__mana = 50\n",
        "        self.max_health = 100\n",
        "        self.max_mana = 50\n",
        "\n",
        "    def get_name(self):\n",
        "        return self.__name\n",
        "\n",
        "    def get_level(self):\n",
        "        return self.__level\n",
        "\n",
        "    def get_health(self):\n",
        "        return self.__health\n",
        "\n",
        "    def get_mana(self):\n",
        "        return self.__mana\n",
        "\n",
        "    def set_health(self, health):\n",
        "        self.__health = max(0, min(health, self.max_health))\n",
        "\n",
        "    def set_mana(self, mana):\n",
        "        self.__mana = max(0, mana)\n",
        "\n",
        "    def set_level(self, level):\n",
        "        self.__level = level\n",
        "\n",
        "    def __calculate_damage(self):\n",
        "        return (self.__level * 5) + 10\n",
        "\n",
        "    def attack(self, opponent):\n",
        "        if self.__mana >= 10:\n",
        "            self.__mana -= 10\n",
        "            damage = self.__calculate_damage()\n",
        "            opponent.set_health(opponent.get_health() - damage)\n",
        "            return damage\n",
        "        else:\n",
        "            print(f\"{self.__name} doesn't have enough mana to attack!\")\n",
        "            return 0\n",
        "\n",
        "    def level_up(self):\n",
        "        self.__level += 1\n",
        "        self.__health = self.max_health\n",
        "        self.__mana = self.max_mana\n",
        "        print(f\"{self.__name} leveled up! New level: {self.__level}\")\n",
        "\n",
        "warrior = GameCharacter(\"Warrior\")\n",
        "mage = GameCharacter(\"Mage\")\n",
        "\n",
        "mage.set_level(50)\n",
        "warrior.set_level(99)\n",
        "\n",
        "print(\"Initial Status:\")\n",
        "print(f\"{warrior.get_name()} - Level: {warrior.get_level()}, Health: {warrior.get_health()}, Mana: {warrior.get_mana()}\")\n",
        "print(f\"{mage.get_name()} - Level: {mage.get_level()}, Health: {mage.get_health()}, Mana: {mage.get_mana()}\")\n",
        "\n",
        "print(\"\\nMage attacks Warrior:\")\n",
        "mage_damage = mage.attack(warrior)\n",
        "print(f\"Damage dealt by Mage: {mage_damage}\")\n",
        "print(f\"Mage's remaining mana: {mage.get_mana()}\")\n",
        "print(f\"Warrior's remaining health: {warrior.get_health()}\")\n",
        "\n",
        "print(\"\\nLeveling up both characters:\")\n",
        "mage.level_up()\n",
        "warrior.level_up()\n",
        "\n",
        "print(\"\\nStatus After Level Up:\")\n",
        "print(f\"{warrior.get_name()} - Level: {warrior.get_level()}, Health: {warrior.get_health()}, Mana: {warrior.get_mana()}\")\n",
        "print(f\"{mage.get_name()} - Level: {mage.get_level()}, Health: {mage.get_health()}, Mana: {mage.get_mana()}\")\n",
        "\n",
        "print(\"\\nWarrior attacks Mage:\")\n",
        "warrior_damage = warrior.attack(mage)\n",
        "print(f\"Damage dealt by Warrior: {warrior_damage}\")\n",
        "print(f\"Warrior's remaining mana: {warrior.get_mana()}\")\n",
        "print(f\"Mage's remaining health: {mage.get_health()}\")\n"
      ],
      "metadata": {
        "id": "nMkzvoZqNTSh",
        "outputId": "18111891-323d-4e5c-ccdb-c4d5ab5bb65f",
        "colab": {
          "base_uri": "https://localhost:8080/"
        }
      },
      "execution_count": 48,
      "outputs": [
        {
          "output_type": "stream",
          "name": "stdout",
          "text": [
            "Initial Status:\n",
            "Warrior - Level: 99, Health: 100, Mana: 50\n",
            "Mage - Level: 50, Health: 100, Mana: 50\n",
            "\n",
            "Mage attacks Warrior:\n",
            "Damage dealt by Mage: 260\n",
            "Mage's remaining mana: 40\n",
            "Warrior's remaining health: 0\n",
            "\n",
            "Leveling up both characters:\n",
            "Mage leveled up! New level: 51\n",
            "Warrior leveled up! New level: 100\n",
            "\n",
            "Status After Level Up:\n",
            "Warrior - Level: 100, Health: 100, Mana: 50\n",
            "Mage - Level: 51, Health: 100, Mana: 50\n",
            "\n",
            "Warrior attacks Mage:\n",
            "Damage dealt by Warrior: 510\n",
            "Warrior's remaining mana: 40\n",
            "Mage's remaining health: 0\n"
          ]
        }
      ]
    },
    {
      "cell_type": "code",
      "source": [],
      "metadata": {
        "id": "v2qiBObrOyK3"
      },
      "execution_count": null,
      "outputs": []
    }
  ]
}